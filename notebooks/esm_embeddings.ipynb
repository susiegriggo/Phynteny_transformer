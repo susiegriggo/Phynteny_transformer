{
 "cells": [
  {
   "cell_type": "markdown",
   "id": "0b0f9dfd-f18c-4917-8dd0-8333a39727ec",
   "metadata": {},
   "source": [
    "# some test code to generate esm2 embeddings\n",
    "Code from https://kaggle.com/code/viktorfairuschin/extracting-esm-2-embeddings-from-fasta-files "
   ]
  },
  {
   "cell_type": "code",
   "execution_count": 1,
   "id": "9efbcc3a-52d7-4f7b-91f2-4a7e897b5c56",
   "metadata": {},
   "outputs": [],
   "source": [
    "import pathlib\n",
    "import torch\n",
    "import pickle\n",
    "from esm import FastaBatchedDataset, pretrained"
   ]
  },
  {
   "cell_type": "code",
   "execution_count": 45,
   "id": "5ecc2cea-1a06-44f5-9a97-1f895d8c36a8",
   "metadata": {},
   "outputs": [],
   "source": [
    "# this code seems to batch from a fasta file better from the code later \n",
    "def extract_embeddings(model_name, fasta_file, output_dir, tokens_per_batch=4096, seq_length=1022,repr_layers=[33]):\n",
    "    \n",
    "    # read in the esm model \n",
    "    model, alphabet = pretrained.load_model_and_alphabet(model_name)\n",
    "    model.eval()\n",
    "\n",
    "    # move model to gpu if available \n",
    "    if torch.cuda.is_available():\n",
    "        model = model.cuda()\n",
    "      \n",
    "    # batch the fasta file \n",
    "    dataset = FastaBatchedDataset.from_file(fasta_file)\n",
    "    batches = dataset.get_batch_indices(tokens_per_batch, extra_toks_per_seq=1)\n",
    "\n",
    "    # create data loader obj\n",
    "    data_loader = torch.utils.data.DataLoader(\n",
    "        dataset, \n",
    "        collate_fn=alphabet.get_batch_converter(), \n",
    "        batch_sampler=batches\n",
    "    )\n",
    "\n",
    "    # make output directory \n",
    "    output_dir.mkdir(parents=True, exist_ok=True)\n",
    "    \n",
    "    # start processing batches \n",
    "    with torch.no_grad():\n",
    "        for batch_idx, (labels, strs, toks) in enumerate(data_loader):\n",
    "\n",
    "            print(f'Processing batch {batch_idx + 1} of {len(batches)}')\n",
    "\n",
    "            # move tokens to gpu if available \n",
    "            if torch.cuda.is_available():\n",
    "                toks = toks.to(device=\"cuda\", non_blocking=True)\n",
    "            \n",
    "            # Extract embeddings \n",
    "            with torch.no_grad():\n",
    "                results = model(toks, repr_layers=repr_layers, return_contacts=False)\n",
    "            token_representations = results[\"representations\"][33]\n",
    "\n",
    "            # update this to save dictionary for an entire fasta file \n",
    "            results = dict() \n",
    "            for i, label in enumerate(labels):\n",
    "                entry_id = label.split()[0]\n",
    "                \n",
    "                filename = output_dir / f\"{entry_id}.pt\"\n",
    "                \n",
    "                representation = token_representations[i, 1 : len(strs[i]) - 1].mean(0)\n",
    "                results[label] = representation \n",
    "    \n",
    "                \n",
    "            torch.save(results, filename) \n",
    "            print(results)\n",
    "            break \n",
    "                "
   ]
  },
  {
   "cell_type": "code",
   "execution_count": 46,
   "id": "802048fb-0632-4f62-8f33-47c2a679d806",
   "metadata": {},
   "outputs": [
    {
     "name": "stdout",
     "output_type": "stream",
     "text": [
      "Processing batch 1 of 1671\n",
      "{'JQHJTWNH_CDS_0019 hypothetical protein': tensor([ 0.0664,  0.0853,  0.0053,  ...,  0.0562, -0.2026,  0.0552]), 'JQHJTWNH_CDS_0086 hypothetical protein': tensor([ 0.0675,  0.0432,  0.0613,  ...,  0.0466, -0.0917, -0.0452]), 'JQHJTWNH_CDS_0113 hypothetical protein': tensor([ 0.0664,  0.0853,  0.0053,  ...,  0.0562, -0.2026,  0.0552]), 'JQHJTWNH_CDS_0180 hypothetical protein': tensor([ 0.0675,  0.0432,  0.0613,  ...,  0.0466, -0.0917, -0.0452]), 'JQHJTWNH_CDS_0311 hypothetical protein': tensor([ 0.0202,  0.0422, -0.0027,  ..., -0.0105, -0.0526, -0.0751]), 'JQHJTWNH_CDS_0324 hypothetical protein': tensor([ 0.0498,  0.0677,  0.1151,  ...,  0.0385, -0.1930, -0.0097]), 'JQHJTWNH_CDS_0914 hypothetical protein': tensor([ 0.0608,  0.0276,  0.0244,  ...,  0.0234, -0.0759, -0.0523]), 'JQHJTWNH_CDS_0923 hypothetical protein': tensor([ 0.0323,  0.0105, -0.0528,  ..., -0.0311, -0.0141,  0.0359]), 'JQHJTWNH_CDS_0960 hypothetical protein': tensor([ 0.0883,  0.0284,  0.0568,  ...,  0.0193, -0.0260,  0.0386]), 'JQHJTWNH_CDS_1169 hypothetical protein': tensor([ 0.0409,  0.0126,  0.1116,  ...,  0.0411, -0.0998, -0.0377]), 'JQHJTWNH_CDS_1209 hypothetical protein': tensor([ 0.0599, -0.0129, -0.0416,  ..., -0.0084, -0.0892,  0.0193]), 'JQHJTWNH_CDS_1216 hypothetical protein': tensor([ 0.0982,  0.0815,  0.0957,  ..., -0.0943, -0.0560, -0.0191]), 'JQHJTWNH_CDS_1297 hypothetical protein': tensor([ 0.0295,  0.0556,  0.0045,  ...,  0.0227, -0.0523, -0.0231]), 'JQHJTWNH_CDS_1832 hypothetical protein': tensor([ 0.1212, -0.0097, -0.0355,  ...,  0.0047, -0.0323,  0.0126]), 'JQHJTWNH_CDS_2262 hypothetical protein': tensor([ 0.0884, -0.0567, -0.0247,  ...,  0.0655, -0.0729, -0.0828]), 'JQHJTWNH_CDS_2291 hypothetical protein': tensor([ 0.0009, -0.0373, -0.0584,  ...,  0.0570, -0.0432, -0.0975]), 'JQHJTWNH_CDS_2304 hypothetical protein': tensor([ 0.0035, -0.0215, -0.0482,  ..., -0.0559, -0.0593, -0.0411]), 'JQHJTWNH_CDS_2626 hypothetical protein': tensor([ 0.0488,  0.0760,  0.0245,  ...,  0.0216, -0.0790,  0.0032]), 'JQHJTWNH_CDS_2952 hypothetical protein': tensor([ 0.0563,  0.0636,  0.0003,  ...,  0.0121, -0.0612, -0.0559]), 'JQHJTWNH_CDS_2983 hypothetical protein': tensor([ 0.0663,  0.0916, -0.0362,  ...,  0.0558, -0.1103, -0.0048]), 'JQHJTWNH_CDS_2989 hypothetical protein': tensor([ 0.0831,  0.0227,  0.0834,  ...,  0.0855, -0.0289, -0.0474]), 'JQHJTWNH_CDS_2995 hypothetical protein': tensor([ 0.1392,  0.0634,  0.0316,  ..., -0.0044,  0.0089, -0.0303]), 'JQHJTWNH_CDS_3082 hypothetical protein': tensor([ 0.0958, -0.0170,  0.0328,  ...,  0.0827, -0.1352,  0.0495]), 'JQHJTWNH_CDS_3101 hypothetical protein': tensor([-0.0082,  0.0067,  0.0271,  ..., -0.0499, -0.0391,  0.0196]), 'JQHJTWNH_CDS_3285 hypothetical protein': tensor([ 0.0209,  0.1175,  0.0248,  ...,  0.0333, -0.0315, -0.0030]), 'JQHJTWNH_CDS_3568 hypothetical protein': tensor([ 0.1657,  0.0126,  0.0161,  ...,  0.0726, -0.0411,  0.0248]), 'JQHJTWNH_CDS_3639 hypothetical protein': tensor([-0.0060,  0.0395, -0.0423,  ...,  0.0100, -0.0628,  0.0004]), 'JQHJTWNH_CDS_3691 hypothetical protein': tensor([ 0.0499, -0.0313,  0.0347,  ...,  0.0820, -0.0850,  0.0053]), 'JQHJTWNH_CDS_3826 hypothetical protein': tensor([ 0.0035, -0.0215, -0.0482,  ..., -0.0559, -0.0593, -0.0411]), 'JQHJTWNH_CDS_3840 hypothetical protein': tensor([-0.0028, -0.0235, -0.0315,  ...,  0.0464, -0.0160, -0.0555]), 'JQHJTWNH_CDS_3873 hypothetical protein': tensor([ 0.0840, -0.0609, -0.0180,  ...,  0.0847, -0.0737, -0.0841]), 'JQHJTWNH_CDS_3977 hypothetical protein': tensor([ 0.0518,  0.0427,  0.0921,  ...,  0.0689, -0.1014, -0.0289]), 'JQHJTWNH_CDS_4039 hypothetical protein': tensor([ 0.0142,  0.0025, -0.0096,  ...,  0.0574, -0.1179,  0.0091]), 'JQHJTWNH_CDS_4079 hypothetical protein': tensor([ 0.0664,  0.0620,  0.0864,  ..., -0.0042, -0.0347,  0.0019]), 'JQHJTWNH_CDS_4134 hypothetical protein': tensor([ 0.1223, -0.0003,  0.1426,  ...,  0.0310, -0.0505, -0.0264]), 'JQHJTWNH_CDS_4326 hypothetical protein': tensor([ 0.0667,  0.0717,  0.0502,  ...,  0.1095, -0.0352, -0.0230]), 'JQHJTWNH_CDS_4327 hypothetical protein': tensor([ 0.0379,  0.1067,  0.0438,  ...,  0.0639, -0.1790,  0.0070]), 'JQHJTWNH_CDS_4557 hypothetical protein': tensor([ 0.0678, -0.0041, -0.0053,  ...,  0.0114, -0.0486, -0.0323]), 'JQHJTWNH_CDS_4758 hypothetical protein': tensor([ 0.0563,  0.0636,  0.0003,  ...,  0.0121, -0.0612, -0.0559]), 'JQHJTWNH_CDS_4791 hypothetical protein': tensor([ 0.0631,  0.0584,  0.0641,  ...,  0.1011, -0.0563, -0.0380]), 'JQHJTWNH_CDS_4929 hypothetical protein': tensor([-0.0139, -0.0390, -0.0160,  ...,  0.0369,  0.0058,  0.0213]), 'JQHJTWNH_CDS_4987 hypothetical protein': tensor([ 0.1209, -0.0123,  0.1382,  ...,  0.0151, -0.0619, -0.0154]), 'JQHJTWNH_CDS_5045 hypothetical protein': tensor([-0.0181, -0.0033,  0.0062,  ..., -0.0497, -0.1300, -0.1177]), 'JQHJTWNH_CDS_5208 hypothetical protein': tensor([-0.0126,  0.0235,  0.0443,  ..., -0.0434, -0.0989, -0.0077]), 'JQHJTWNH_CDS_5267 hypothetical protein': tensor([ 0.0231,  0.0211,  0.0031,  ...,  0.0542, -0.0948,  0.0219]), 'JQHJTWNH_CDS_5268 hypothetical protein': tensor([ 0.0463,  0.0333,  0.1003,  ...,  0.0190, -0.0572, -0.0420]), 'JQHJTWNH_CDS_5310 hypothetical protein': tensor([ 0.0953,  0.0350,  0.0853,  ...,  0.0340, -0.0682, -0.0068]), 'JQHJTWNH_CDS_5327 hypothetical protein': tensor([ 0.0647, -0.0125,  0.1381,  ...,  0.0928, -0.0196, -0.0179]), 'JQHJTWNH_CDS_5477 hypothetical protein': tensor([-0.0534,  0.0074, -0.0146,  ..., -0.0531, -0.1885,  0.0188]), 'JQHJTWNH_CDS_5668 hypothetical protein': tensor([ 0.0401,  0.0538,  0.0573,  ...,  0.0533, -0.1034,  0.0055]), 'JQHJTWNH_CDS_5845 hypothetical protein': tensor([ 0.0440,  0.0644, -0.0369,  ..., -0.0273, -0.0285, -0.0585]), 'JQHJTWNH_CDS_6002 hypothetical protein': tensor([ 0.0172,  0.0395,  0.0061,  ..., -0.0068, -0.0800,  0.0291]), 'JQHJTWNH_CDS_6110 hypothetical protein': tensor([-0.0434,  0.0490,  0.1342,  ..., -0.0889, -0.0491,  0.2145]), 'JQHJTWNH_CDS_6133 hypothetical protein': tensor([ 0.1002, -0.0159,  0.0591,  ...,  0.1050, -0.0437,  0.0175]), 'JQHJTWNH_CDS_6218 hypothetical protein': tensor([-0.0139, -0.0390, -0.0160,  ...,  0.0369,  0.0058,  0.0213]), 'JQHJTWNH_CDS_6613 hypothetical protein': tensor([ 0.0180,  0.0339, -0.0172,  ..., -0.0011, -0.0161, -0.0659]), 'JQHJTWNH_CDS_6640 hypothetical protein': tensor([ 0.0198,  0.0197, -0.0212,  ...,  0.0101, -0.0850, -0.0590]), 'JQHJTWNH_CDS_6664 hypothetical protein': tensor([-0.0126,  0.0235,  0.0443,  ..., -0.0434, -0.0989, -0.0077]), 'JQHJTWNH_CDS_6688 hypothetical protein': tensor([ 0.0879,  0.0500,  0.1201,  ...,  0.0777, -0.0174, -0.0028]), 'JQHJTWNH_CDS_6746 hypothetical protein': tensor([ 0.0401,  0.0538,  0.0573,  ...,  0.0533, -0.1034,  0.0055]), 'JQHJTWNH_CDS_6804 hypothetical protein': tensor([-0.0181, -0.0033,  0.0062,  ..., -0.0497, -0.1300, -0.1177]), 'JQHJTWNH_CDS_6823 hypothetical protein': tensor([ 0.0304, -0.0159, -0.0045,  ..., -0.0461, -0.0873, -0.0348]), 'JQHJTWNH_CDS_6882 hypothetical protein': tensor([ 0.1056, -0.0046,  0.0970,  ..., -0.0112, -0.1343,  0.0110]), 'JQHJTWNH_CDS_6915 hypothetical protein': tensor([ 0.0882, -0.0214,  0.0630,  ...,  0.0850, -0.1037,  0.0133]), 'JQHJTWNH_CDS_6951 hypothetical protein': tensor([ 0.0636,  0.0495,  0.1004,  ...,  0.0444, -0.0023, -0.0269]), 'JQHJTWNH_CDS_6970 hypothetical protein': tensor([-0.0228, -0.0168, -0.0471,  ..., -0.0485,  0.0203,  0.0217]), 'JQHJTWNH_CDS_7062 hypothetical protein': tensor([ 0.0144,  0.0363, -0.0067,  ...,  0.0475, -0.0890, -0.0206]), 'JQHJTWNH_CDS_7234 hypothetical protein': tensor([ 0.0267,  0.0585,  0.1024,  ..., -0.0123, -0.1624, -0.0853]), 'JQHJTWNH_CDS_7287 hypothetical protein': tensor([ 0.0651, -0.0023,  0.0625,  ...,  0.0059, -0.0838, -0.0218]), 'JQHJTWNH_CDS_7309 hypothetical protein': tensor([ 0.0880,  0.0126,  0.0306,  ...,  0.0412, -0.1273, -0.0142]), 'JQHJTWNH_CDS_7355 hypothetical protein': tensor([ 0.0958, -0.0170,  0.0328,  ...,  0.0827, -0.1352,  0.0495]), 'JQHJTWNH_CDS_7412 hypothetical protein': tensor([ 0.1086, -0.0136,  0.1040,  ...,  0.0688, -0.1043, -0.0066]), 'JQHJTWNH_CDS_7658 hypothetical protein': tensor([-0.0126,  0.0235,  0.0443,  ..., -0.0434, -0.0989, -0.0077]), 'JQHJTWNH_CDS_7752 hypothetical protein': tensor([-0.0082,  0.0067,  0.0271,  ..., -0.0499, -0.0391,  0.0196]), 'JQHJTWNH_CDS_7793 hypothetical protein': tensor([ 0.0840, -0.0127,  0.1341,  ...,  0.0487, -0.1246,  0.0211]), 'JQHJTWNH_CDS_7857 hypothetical protein': tensor([ 0.0698,  0.0767,  0.0808,  ..., -0.0170, -0.1046, -0.0427]), 'JQHJTWNH_CDS_7939 hypothetical protein': tensor([ 0.0209,  0.1175,  0.0248,  ...,  0.0333, -0.0315, -0.0030]), 'JQHJTWNH_CDS_7959 hypothetical protein': tensor([ 0.0292,  0.0738, -0.0171,  ..., -0.0264, -0.0965, -0.0300]), 'JQHJTWNH_CDS_7962 hypothetical protein': tensor([ 0.0637, -0.0020,  0.0667,  ..., -0.0147, -0.0826, -0.0084]), 'JQHJTWNH_CDS_7972 hypothetical protein': tensor([-0.0056,  0.0349,  0.0509,  ...,  0.0725, -0.0648, -0.0150]), 'JQHJTWNH_CDS_8024 hypothetical protein': tensor([0.0694, 0.0414, 0.1387,  ..., 0.1060, 0.0207, 0.0017]), 'JQHJTWNH_CDS_8089 hypothetical protein': tensor([ 0.0351,  0.0385,  0.1814,  ...,  0.1738, -0.0772,  0.1308]), 'JQHJTWNH_CDS_8209 hypothetical protein': tensor([ 0.0170,  0.0709,  0.0838,  ...,  0.0384, -0.0774, -0.0328]), 'JQHJTWNH_CDS_8286 hypothetical protein': tensor([-1.0854e-04,  4.0181e-02,  1.7738e-01,  ..., -6.2252e-02,\n",
      "        -2.1262e-01,  1.6491e-01]), 'JQHJTWNH_CDS_8327 hypothetical protein': tensor([-0.0164,  0.0548,  0.0642,  ...,  0.0200, -0.0948,  0.0192]), 'JQHJTWNH_CDS_8528 hypothetical protein': tensor([-0.0011,  0.0395,  0.0592,  ..., -0.0680, -0.0929,  0.0170]), 'JQHJTWNH_CDS_8536 hypothetical protein': tensor([ 0.0235,  0.0058,  0.0197,  ...,  0.0204, -0.1298,  0.0027]), 'JQHJTWNH_CDS_8680 hypothetical protein': tensor([ 0.0698,  0.0589,  0.0306,  ...,  0.0127, -0.0463, -0.0246]), 'JQHJTWNH_CDS_8696 hypothetical protein': tensor([ 0.0040,  0.0129, -0.0409,  ...,  0.0516,  0.0049, -0.0788]), 'JQHJTWNH_CDS_8801 hypothetical protein': tensor([ 0.0145,  0.0267,  0.1312,  ..., -0.0274, -0.0572,  0.0152]), 'JQHJTWNH_CDS_8834 hypothetical protein': tensor([ 0.1220, -0.0170, -0.0147,  ...,  0.0146, -0.0310,  0.0243]), 'JQHJTWNH_CDS_9088 hypothetical protein': tensor([ 0.1062,  0.0338,  0.0837,  ...,  0.1084, -0.0497,  0.0406]), 'JQHJTWNH_CDS_9202 hypothetical protein': tensor([ 0.0754,  0.0799,  0.0724,  ...,  0.0480, -0.0646,  0.0238]), 'JQHJTWNH_CDS_9238 hypothetical protein': tensor([ 0.0734,  0.0572,  0.0412,  ...,  0.0529, -0.0720, -0.0086]), 'JQHJTWNH_CDS_9325 hypothetical protein': tensor([ 0.0549, -0.0118,  0.0518,  ...,  0.1291, -0.0613,  0.0415]), 'JQHJTWNH_CDS_9388 hypothetical protein': tensor([-0.0548, -0.0386, -0.0015,  ..., -0.0144, -0.0071, -0.0439]), 'JQHJTWNH_CDS_9480 hypothetical protein': tensor([ 0.0913,  0.0133,  0.1103,  ...,  0.0387, -0.1837, -0.0581]), 'JQHJTWNH_CDS_9485 hypothetical protein': tensor([ 0.0924,  0.0032, -0.0479,  ...,  0.0253, -0.1269,  0.0005]), 'JQHJTWNH_CDS_9530 hypothetical protein': tensor([ 0.0803,  0.0187,  0.0989,  ...,  0.0423, -0.1792, -0.0462]), 'JQHJTWNH_CDS_9607 hypothetical protein': tensor([ 0.0627,  0.0352, -0.0593,  ..., -0.0140, -0.0845, -0.0341]), 'JQHJTWNH_CDS_9654 hypothetical protein': tensor([ 0.1496,  0.0068,  0.0225,  ...,  0.0224, -0.0396, -0.0017]), 'JQHJTWNH_CDS_9681 hypothetical protein': tensor([-0.0315,  0.0470,  0.1296,  ..., -0.0103, -0.1581,  0.1683]), 'JQHJTWNH_CDS_10052 hypothetical protein': tensor([ 0.0316, -0.0135,  0.0336,  ..., -0.0196, -0.0931, -0.0973]), 'JQHJTWNH_CDS_10426 hypothetical protein': tensor([ 0.0644,  0.0451,  0.1362,  ...,  0.0248, -0.0783,  0.0470]), 'JQHJTWNH_CDS_10446 hypothetical protein': tensor([ 0.0640,  0.0144,  0.0643,  ...,  0.0939, -0.0624,  0.0219]), 'JQHJTWNH_CDS_10501 hypothetical protein': tensor([ 0.0500,  0.0172,  0.0380,  ...,  0.0199, -0.0625,  0.0396]), 'JQHJTWNH_CDS_10560 hypothetical protein': tensor([ 0.0641, -0.0212,  0.0118,  ...,  0.1230, -0.1088,  0.0347]), 'JQHJTWNH_CDS_10722 hypothetical protein': tensor([ 0.1294,  0.0556,  0.0927,  ..., -0.0674, -0.0716, -0.0791]), 'JQHJTWNH_CDS_10765 hypothetical protein': tensor([ 0.0406, -0.0431, -0.0243,  ..., -0.0172, -0.0885, -0.0570]), 'JQHJTWNH_CDS_10845 hypothetical protein': tensor([ 0.1002,  0.0580,  0.0809,  ..., -0.0084,  0.0185, -0.0776]), 'JQHJTWNH_CDS_10881 hypothetical protein': tensor([ 0.0984, -0.0079,  0.0455,  ...,  0.0394, -0.0494, -0.0226]), 'JQHJTWNH_CDS_10995 hypothetical protein': tensor([ 0.0875,  0.0210,  0.0408,  ...,  0.0398, -0.1636, -0.0059]), 'JQHJTWNH_CDS_11438 hypothetical protein': tensor([ 0.0486,  0.0624,  0.0733,  ...,  0.0505, -0.0618,  0.0644]), 'JQHJTWNH_CDS_11446 tail assembly chaperone': tensor([ 0.0138, -0.0162, -0.0373,  ..., -0.0769,  0.0598, -0.0399]), 'JQHJTWNH_CDS_11466 hypothetical protein': tensor([ 0.0486,  0.0624,  0.0733,  ...,  0.0505, -0.0618,  0.0644]), 'JQHJTWNH_CDS_11474 tail assembly chaperone': tensor([ 0.0138, -0.0162, -0.0373,  ..., -0.0769,  0.0598, -0.0399]), 'JQHJTWNH_CDS_11495 hypothetical protein': tensor([ 0.0486,  0.0624,  0.0733,  ...,  0.0505, -0.0618,  0.0644]), 'JQHJTWNH_CDS_11503 tail assembly chaperone': tensor([ 0.0138, -0.0162, -0.0373,  ..., -0.0769,  0.0598, -0.0399]), 'JQHJTWNH_CDS_11524 hypothetical protein': tensor([ 0.0358,  0.0771,  0.0638,  ...,  0.0808, -0.0564,  0.0652]), 'JQHJTWNH_CDS_11532 tail assembly chaperone': tensor([ 0.0138, -0.0162, -0.0373,  ..., -0.0769,  0.0598, -0.0399]), 'JQHJTWNH_CDS_11553 hypothetical protein': tensor([ 0.0358,  0.0771,  0.0638,  ...,  0.0808, -0.0564,  0.0652]), 'JQHJTWNH_CDS_11561 tail assembly chaperone': tensor([ 0.0138, -0.0162, -0.0373,  ..., -0.0769,  0.0598, -0.0399]), 'JQHJTWNH_CDS_11581 hypothetical protein': tensor([ 0.0387,  0.0568,  0.0639,  ...,  0.0490, -0.0543,  0.0719]), 'JQHJTWNH_CDS_11589 tail assembly chaperone': tensor([ 0.0138, -0.0162, -0.0373,  ..., -0.0769,  0.0598, -0.0399]), 'JQHJTWNH_CDS_11609 hypothetical protein': tensor([ 0.0358,  0.0771,  0.0638,  ...,  0.0808, -0.0564,  0.0652]), 'JQHJTWNH_CDS_11617 tail assembly chaperone': tensor([ 0.0138, -0.0162, -0.0373,  ..., -0.0769,  0.0598, -0.0399]), 'JQHJTWNH_CDS_11638 hypothetical protein': tensor([ 0.0486,  0.0624,  0.0733,  ...,  0.0505, -0.0618,  0.0644]), 'JQHJTWNH_CDS_11646 tail assembly chaperone': tensor([ 0.0138, -0.0162, -0.0373,  ..., -0.0769,  0.0598, -0.0399]), 'JQHJTWNH_CDS_11666 hypothetical protein': tensor([ 0.0486,  0.0624,  0.0733,  ...,  0.0505, -0.0618,  0.0644]), 'JQHJTWNH_CDS_11674 tail assembly chaperone': tensor([ 0.0138, -0.0162, -0.0373,  ..., -0.0769,  0.0598, -0.0399]), 'JQHJTWNH_CDS_11783 hypothetical protein': tensor([ 0.1521,  0.0580,  0.1367,  ..., -0.0016, -0.1072, -0.0806]), 'JQHJTWNH_CDS_11903 hypothetical protein': tensor([ 0.0806,  0.0656,  0.0619,  ...,  0.1053, -0.1302, -0.0338]), 'JQHJTWNH_CDS_12027 hypothetical protein': tensor([ 0.0490,  0.0392, -0.0324,  ..., -0.0484, -0.1334, -0.0181]), 'JQHJTWNH_CDS_12144 hypothetical protein': tensor([ 0.0516,  0.0294,  0.1012,  ...,  0.0410, -0.0904,  0.0481]), 'JQHJTWNH_CDS_12377 hypothetical protein': tensor([ 0.1045, -0.0001, -0.0053,  ...,  0.0044, -0.0985,  0.0225]), 'JQHJTWNH_CDS_12464 hypothetical protein': tensor([-0.0067,  0.0247,  0.1024,  ...,  0.0692, -0.0995,  0.0007])}\n"
     ]
    }
   ],
   "source": [
    "#test on a simple fasta file \n",
    "model_name = 'esm2_t33_650M_UR50D' # see which model this here corresponds to \n",
    "fasta_file = pathlib.Path('/home/grig0076/scratch/databases/millardlab_phages/4May2024/pharokka/chunk_1/phanotate.faa')\n",
    "output_dir = pathlib.Path('train_embeddings')\n",
    "\n",
    "extract_embeddings(model_name, fasta_file, output_dir)"
   ]
  },
  {
   "cell_type": "code",
   "execution_count": 30,
   "id": "b089b715-b146-40e0-8b6e-3c86eaf9d051",
   "metadata": {},
   "outputs": [],
   "source": [
    "# using code from esm2 github https://github.com/facebookresearch/esm "
   ]
  },
  {
   "cell_type": "code",
   "execution_count": 33,
   "id": "b51a1984-a70f-4440-9e61-c08a6f58e64d",
   "metadata": {},
   "outputs": [],
   "source": [
    "import torch\n",
    "import esm\n",
    "\n",
    "# Load ESM-2 model\n",
    "model, alphabet = esm.pretrained.esm2_t33_650M_UR50D()\n",
    "batch_converter = alphabet.get_batch_converter()\n",
    "model.eval()  # disables dropout for deterministic results\n",
    "if torch.cuda.is_available():\n",
    "        model = model.cuda()\n",
    "        print('cuda')\n",
    "\n",
    "# Prepare data (first 2 sequences from ESMStructuralSplitDataset superfamily / 4)\n",
    "data = [\n",
    "    (\"protein1\", \"MKTVRQERLKSIVRILERSKEPVSGAQLAEELSVSRQVIVQDIAYLRSLGYNIVATPRGYVLAGG\"),\n",
    "    (\"protein2\", \"KALTARQQEVFDLIRDHISQTGMPPTRAEIAQRLGFRSPNAAEEHLKALARKGVIEIVSGASRGIRLLQEE\"),\n",
    "    (\"protein2 with mask\",\"KALTARQQEVFDLIRD<mask>ISQTGMPPTRAEIAQRLGFRSPNAAEEHLKALARKGVIEIVSGASRGIRLLQEE\"),\n",
    "    (\"protein3\",  \"K A <mask> I S Q\"),\n",
    "]\n",
    "batch_labels, batch_strs, batch_tokens = batch_converter(data)\n",
    "batch_lens = (batch_tokens != alphabet.padding_idx).sum(1)\n",
    "\n",
    "# Extract per-residue representations (on CPU)\n",
    "with torch.no_grad():\n",
    "    results = model(batch_tokens, repr_layers=[33], return_contacts=True)\n",
    "token_representations = results[\"representations\"][33]\n",
    "\n",
    "# Generate per-sequence representations via averaging\n",
    "# NOTE: token 0 is always a beginning-of-sequence token, so the first residue is token 1.\n",
    "sequence_representations = []\n",
    "for i, tokens_len in enumerate(batch_lens):\n",
    "    sequence_representations.append(token_representations[i, 1 : tokens_len - 1].mean(0))\n"
   ]
  },
  {
   "cell_type": "code",
   "execution_count": 32,
   "id": "16cc66da-dd14-4abc-af80-3dc1f52ffa0b",
   "metadata": {},
   "outputs": [
    {
     "data": {
      "text/plain": [
       "[tensor([ 0.0614, -0.0687,  0.0430,  ..., -0.1642, -0.0678,  0.0446]),\n",
       " tensor([ 0.0553, -0.0757,  0.0414,  ..., -0.3117, -0.0026,  0.1683]),\n",
       " tensor([ 0.0618, -0.0769,  0.0405,  ..., -0.3037, -0.0013,  0.1741]),\n",
       " tensor([ 0.0084,  0.1425,  0.0506,  ...,  0.0403, -0.1063,  0.0079])]"
      ]
     },
     "execution_count": 32,
     "metadata": {},
     "output_type": "execute_result"
    }
   ],
   "source": [
    "sequence_representations"
   ]
  },
  {
   "cell_type": "code",
   "execution_count": 34,
   "id": "ac62ba63-11e7-4b9f-839b-8ed5e6660ede",
   "metadata": {},
   "outputs": [
    {
     "data": {
      "text/plain": [
       "tensor([67, 73, 73,  8])"
      ]
     },
     "execution_count": 34,
     "metadata": {},
     "output_type": "execute_result"
    }
   ],
   "source": [
    "batch_lens"
   ]
  }
 ],
 "metadata": {
  "kernelspec": {
   "display_name": "Python [conda env:esmfold]",
   "language": "python",
   "name": "conda-env-esmfold-py"
  },
  "language_info": {
   "codemirror_mode": {
    "name": "ipython",
    "version": 3
   },
   "file_extension": ".py",
   "mimetype": "text/x-python",
   "name": "python",
   "nbconvert_exporter": "python",
   "pygments_lexer": "ipython3",
   "version": "3.7.12"
  }
 },
 "nbformat": 4,
 "nbformat_minor": 5
}
